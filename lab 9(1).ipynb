{
 "cells": [
  {
   "cell_type": "markdown",
   "metadata": {
    "id": "3iEtKjCHgWwH"
   },
   "source": [
    "## Ensemble Methods \n"
   ]
  },
  {
   "cell_type": "markdown",
   "metadata": {
    "id": "JE_FIgefM7gT"
   },
   "source": [
    "# Boosting \n",
    "\n"
   ]
  },
  {
   "cell_type": "markdown",
   "metadata": {
    "id": "PYM-rYy0M9_Z"
   },
   "source": [
    "# AdaBoost / Adaptive Boosting\n",
    "\n",
    "\n",
    "\n"
   ]
  },
  {
   "cell_type": "code",
   "execution_count": 48,
   "metadata": {
    "id": "reLYz5t6M6Az"
   },
   "outputs": [],
   "source": [
    "from sklearn.ensemble import AdaBoostClassifier"
   ]
  },
  {
   "cell_type": "code",
   "execution_count": 49,
   "metadata": {
    "id": "uzPYem6ZNBHu"
   },
   "outputs": [],
   "source": [
    "ada_clf = AdaBoostClassifier()"
   ]
  },
  {
   "cell_type": "code",
   "execution_count": 50,
   "metadata": {
    "colab": {
     "base_uri": "https://localhost:8080/"
    },
    "id": "JmPqZkAaNCdA",
    "outputId": "68042fa9-c030-4f6a-b892-149c0b3dcd05"
   },
   "outputs": [
    {
     "data": {
      "text/plain": [
       "AdaBoostClassifier(algorithm='SAMME.R', base_estimator=None, learning_rate=1.0,\n",
       "                   n_estimators=50, random_state=None)"
      ]
     },
     "execution_count": 50,
     "metadata": {
      "tags": []
     },
     "output_type": "execute_result"
    }
   ],
   "source": [
    "ada_clf.fit(X_train, y_train)"
   ]
  },
  {
   "cell_type": "code",
   "execution_count": 51,
   "metadata": {
    "colab": {
     "base_uri": "https://localhost:8080/"
    },
    "id": "F7Rp_OApNE1q",
    "outputId": "90da8acc-8f8e-41e7-d53c-0831c4d69655"
   },
   "outputs": [
    {
     "name": "stdout",
     "output_type": "stream",
     "text": [
      "Train Result:\n",
      "\n",
      "accuracy score: 0.8896\n",
      "\n",
      "Classification Report: \n",
      "               precision    recall  f1-score   support\n",
      "\n",
      "           0       0.87      0.77      0.82        53\n",
      "           1       0.90      0.95      0.92       110\n",
      "\n",
      "    accuracy                           0.89       163\n",
      "   macro avg       0.88      0.86      0.87       163\n",
      "weighted avg       0.89      0.89      0.89       163\n",
      "\n",
      "\n",
      "Confusion Matrix: \n",
      " [[ 41  12]\n",
      " [  6 104]]\n",
      "\n",
      "ROC AUC: 0.8595\n",
      "\n",
      "Average Accuracy: \t 0.7441\n",
      "Accuracy SD: \t\t 0.0834\n"
     ]
    }
   ],
   "source": [
    "print_score(ada_clf, X_train, X_test, y_train, y_test, train=True)\n"
   ]
  },
  {
   "cell_type": "code",
   "execution_count": 52,
   "metadata": {
    "colab": {
     "base_uri": "https://localhost:8080/"
    },
    "id": "hStoNVF2NKrw",
    "outputId": "ec11c2c1-580c-4e53-ec2a-68fa68da48f4"
   },
   "outputs": [
    {
     "name": "stdout",
     "output_type": "stream",
     "text": [
      "Test Result:\n",
      "\n",
      "accuracy score: 0.7895\n",
      "\n",
      "Classification Report: \n",
      "               precision    recall  f1-score   support\n",
      "\n",
      "           0       0.67      0.67      0.67         6\n",
      "           1       0.85      0.85      0.85        13\n",
      "\n",
      "    accuracy                           0.79        19\n",
      "   macro avg       0.76      0.76      0.76        19\n",
      "weighted avg       0.79      0.79      0.79        19\n",
      "\n",
      "\n",
      "Confusion Matrix: \n",
      " [[ 4  2]\n",
      " [ 2 11]]\n",
      "\n",
      "ROC AUC: 0.7564\n",
      "\n"
     ]
    }
   ],
   "source": [
    "print_score(ada_clf, X_train, X_test, y_train, y_test, train=False)"
   ]
  },
  {
   "cell_type": "markdown",
   "metadata": {
    "id": "U_HPrM82NQBO"
   },
   "source": [
    "## AdaBoost with Random Forest"
   ]
  },
  {
   "cell_type": "code",
   "execution_count": 53,
   "metadata": {
    "id": "pWHCJdNZNMYh"
   },
   "outputs": [],
   "source": [
    "from sklearn.ensemble import RandomForestClassifier"
   ]
  },
  {
   "cell_type": "code",
   "execution_count": 54,
   "metadata": {
    "id": "114MFcvqNSIp"
   },
   "outputs": [],
   "source": [
    "ada_clf = AdaBoostClassifier(RandomForestClassifier())"
   ]
  },
  {
   "cell_type": "code",
   "execution_count": 55,
   "metadata": {
    "colab": {
     "base_uri": "https://localhost:8080/"
    },
    "id": "RRB3kHgDNTa2",
    "outputId": "8cca427d-cca6-4c73-96ce-fbe97c2de979"
   },
   "outputs": [
    {
     "data": {
      "text/plain": [
       "AdaBoostClassifier(algorithm='SAMME.R',\n",
       "                   base_estimator=RandomForestClassifier(bootstrap=True,\n",
       "                                                         ccp_alpha=0.0,\n",
       "                                                         class_weight=None,\n",
       "                                                         criterion='gini',\n",
       "                                                         max_depth=None,\n",
       "                                                         max_features='auto',\n",
       "                                                         max_leaf_nodes=None,\n",
       "                                                         max_samples=None,\n",
       "                                                         min_impurity_decrease=0.0,\n",
       "                                                         min_impurity_split=None,\n",
       "                                                         min_samples_leaf=1,\n",
       "                                                         min_samples_split=2,\n",
       "                                                         min_weight_fraction_leaf=0.0,\n",
       "                                                         n_estimators=100,\n",
       "                                                         n_jobs=None,\n",
       "                                                         oob_score=False,\n",
       "                                                         random_state=None,\n",
       "                                                         verbose=0,\n",
       "                                                         warm_start=False),\n",
       "                   learning_rate=1.0, n_estimators=50, random_state=None)"
      ]
     },
     "execution_count": 55,
     "metadata": {
      "tags": []
     },
     "output_type": "execute_result"
    }
   ],
   "source": [
    "ada_clf.fit(X_train, y_train)"
   ]
  },
  {
   "cell_type": "code",
   "execution_count": 56,
   "metadata": {
    "colab": {
     "base_uri": "https://localhost:8080/"
    },
    "id": "xfVddF16NUzl",
    "outputId": "b5e39f7f-4834-4617-e4bd-822783b3a2c8"
   },
   "outputs": [
    {
     "name": "stdout",
     "output_type": "stream",
     "text": [
      "Train Result:\n",
      "\n",
      "accuracy score: 0.9387\n",
      "\n",
      "Classification Report: \n",
      "               precision    recall  f1-score   support\n",
      "\n",
      "           0       0.91      0.91      0.91        53\n",
      "           1       0.95      0.95      0.95       110\n",
      "\n",
      "    accuracy                           0.94       163\n",
      "   macro avg       0.93      0.93      0.93       163\n",
      "weighted avg       0.94      0.94      0.94       163\n",
      "\n",
      "\n",
      "Confusion Matrix: \n",
      " [[ 48   5]\n",
      " [  5 105]]\n",
      "\n",
      "ROC AUC: 0.9301\n",
      "\n",
      "Average Accuracy: \t 0.7985\n",
      "Accuracy SD: \t\t 0.0852\n"
     ]
    }
   ],
   "source": [
    "print_score(ada_clf, X_train, X_test, y_train, y_test, train=True)\n"
   ]
  },
  {
   "cell_type": "code",
   "execution_count": 57,
   "metadata": {
    "colab": {
     "base_uri": "https://localhost:8080/"
    },
    "id": "fo_YxfuONYW3",
    "outputId": "431c166b-41fb-4b5e-c9bf-86c1dea282c7"
   },
   "outputs": [
    {
     "name": "stdout",
     "output_type": "stream",
     "text": [
      "Test Result:\n",
      "\n",
      "accuracy score: 0.8421\n",
      "\n",
      "Classification Report: \n",
      "               precision    recall  f1-score   support\n",
      "\n",
      "           0       0.80      0.67      0.73         6\n",
      "           1       0.86      0.92      0.89        13\n",
      "\n",
      "    accuracy                           0.84        19\n",
      "   macro avg       0.83      0.79      0.81        19\n",
      "weighted avg       0.84      0.84      0.84        19\n",
      "\n",
      "\n",
      "Confusion Matrix: \n",
      " [[ 4  2]\n",
      " [ 1 12]]\n",
      "\n",
      "ROC AUC: 0.7949\n",
      "\n"
     ]
    }
   ],
   "source": [
    "print_score(ada_clf, X_train, X_test, y_train, y_test, train=False)"
   ]
  },
  {
   "cell_type": "markdown",
   "metadata": {
    "id": "yNcaIp3rYABq"
   },
   "source": [
    "# Gradient Boosting / Gradient Boosting Machine (GBM)"
   ]
  },
  {
   "cell_type": "code",
   "execution_count": 58,
   "metadata": {
    "id": "xJK2MahXNZce"
   },
   "outputs": [],
   "source": [
    "from sklearn.ensemble import GradientBoostingClassifier"
   ]
  },
  {
   "cell_type": "code",
   "execution_count": 59,
   "metadata": {
    "colab": {
     "base_uri": "https://localhost:8080/"
    },
    "id": "hT1xQRZnalEf",
    "outputId": "a4bcb65b-0908-47d2-f1c7-4a793a4abdc3"
   },
   "outputs": [
    {
     "data": {
      "text/plain": [
       "GradientBoostingClassifier(ccp_alpha=0.0, criterion='friedman_mse', init=None,\n",
       "                           learning_rate=0.1, loss='deviance', max_depth=3,\n",
       "                           max_features=None, max_leaf_nodes=None,\n",
       "                           min_impurity_decrease=0.0, min_impurity_split=None,\n",
       "                           min_samples_leaf=1, min_samples_split=2,\n",
       "                           min_weight_fraction_leaf=0.0, n_estimators=100,\n",
       "                           n_iter_no_change=None, presort='deprecated',\n",
       "                           random_state=None, subsample=1.0, tol=0.0001,\n",
       "                           validation_fraction=0.1, verbose=0,\n",
       "                           warm_start=False)"
      ]
     },
     "execution_count": 59,
     "metadata": {
      "tags": []
     },
     "output_type": "execute_result"
    }
   ],
   "source": [
    "gbc_clf = GradientBoostingClassifier()\n",
    "gbc_clf.fit(X_train, y_train)"
   ]
  },
  {
   "cell_type": "code",
   "execution_count": 60,
   "metadata": {
    "colab": {
     "base_uri": "https://localhost:8080/"
    },
    "id": "GJV3w9Tnam2E",
    "outputId": "a79315aa-601c-4300-94c5-58d4ffbbe231"
   },
   "outputs": [
    {
     "name": "stdout",
     "output_type": "stream",
     "text": [
      "Train Result:\n",
      "\n",
      "accuracy score: 0.9325\n",
      "\n",
      "Classification Report: \n",
      "               precision    recall  f1-score   support\n",
      "\n",
      "           0       0.94      0.85      0.89        53\n",
      "           1       0.93      0.97      0.95       110\n",
      "\n",
      "    accuracy                           0.93       163\n",
      "   macro avg       0.93      0.91      0.92       163\n",
      "weighted avg       0.93      0.93      0.93       163\n",
      "\n",
      "\n",
      "Confusion Matrix: \n",
      " [[ 45   8]\n",
      " [  3 107]]\n",
      "\n",
      "ROC AUC: 0.9109\n",
      "\n",
      "Average Accuracy: \t 0.7982\n",
      "Accuracy SD: \t\t 0.0815\n"
     ]
    }
   ],
   "source": [
    "print_score(gbc_clf, X_train, X_test, y_train, y_test, train=True)\n"
   ]
  },
  {
   "cell_type": "code",
   "execution_count": 61,
   "metadata": {
    "colab": {
     "base_uri": "https://localhost:8080/"
    },
    "id": "hZtJweXVap7p",
    "outputId": "167d9a2a-b10b-44b0-bc91-dbde72e6f186"
   },
   "outputs": [
    {
     "name": "stdout",
     "output_type": "stream",
     "text": [
      "Test Result:\n",
      "\n",
      "accuracy score: 0.8421\n",
      "\n",
      "Classification Report: \n",
      "               precision    recall  f1-score   support\n",
      "\n",
      "           0       0.80      0.67      0.73         6\n",
      "           1       0.86      0.92      0.89        13\n",
      "\n",
      "    accuracy                           0.84        19\n",
      "   macro avg       0.83      0.79      0.81        19\n",
      "weighted avg       0.84      0.84      0.84        19\n",
      "\n",
      "\n",
      "Confusion Matrix: \n",
      " [[ 4  2]\n",
      " [ 1 12]]\n",
      "\n",
      "ROC AUC: 0.7949\n",
      "\n"
     ]
    }
   ],
   "source": [
    "print_score(gbc_clf, X_train, X_test, y_train, y_test, train=False)"
   ]
  },
  {
   "cell_type": "markdown",
   "metadata": {
    "id": "U7ZeqHcXauJR"
   },
   "source": [
    "| Classifier | Decision Tree | Bagging | Random Forest | Optimised RF | Extra-Trees | AdaBoost (CART) | AdaBoost (RF) | Gradient Boosting |\n",
    "|:-|:-|:- |:- |:- |:- |:-|:-| :- |\n",
    "| Train accuracy score | 0.9528 | 0.9528 | 0.9325 | 0.9264 | 0.9448 | 0.8661 | 0.9528 | 0.9449 |\n",
    "| Average accuracy score | 0.7724 | 0.7879 | 0.7801 | 0.7059 | 0.7548 | 0.7793 | 0.7353 | 0.7906 |\n",
    "| SD | 0.1018 | 0.1008 | 0.1474 | 0.1308 | 0.1406 | 0.1172 | 0.0881 | 0.0912 |\n",
    "| Test accuracy score | 0.7636 | 0.7455 | 0.7895 | 0.6316 | 0.7895 | 0.6545 | 0.7818 | 0.7818 |\n"
   ]
  },
  {
   "cell_type": "markdown",
   "metadata": {
    "id": "Ai4lm1jrGExk"
   },
   "source": [
    "# XGBoost (Extreme Gradient Boosting)\n",
    "\n"
   ]
  },
  {
   "cell_type": "code",
   "execution_count": null,
   "metadata": {
    "id": "eBi15UvnJHLa"
   },
   "outputs": [],
   "source": [
    "import xgboost as xgb"
   ]
  },
  {
   "cell_type": "code",
   "execution_count": null,
   "metadata": {
    "id": "ZiV5S0EoJ2Q3"
   },
   "outputs": [],
   "source": [
    "xgb_clf = xgb.XGBClassifier(max_depth=5, n_estimators=10000, learning_rate=0.3,\n",
    "                            n_jobs=-1)"
   ]
  },
  {
   "cell_type": "code",
   "execution_count": null,
   "metadata": {
    "id": "LN3tZQN_J14Y"
   },
   "outputs": [],
   "source": [
    "xgb_clf.fit(X_train, y_train)"
   ]
  },
  {
   "cell_type": "code",
   "execution_count": null,
   "metadata": {
    "id": "Dtqr0ogcJ1lV"
   },
   "outputs": [],
   "source": [
    "print_score(xgb_clf, X_train, y_train, X_test, y_test, train=True)"
   ]
  },
  {
   "cell_type": "code",
   "execution_count": null,
   "metadata": {},
   "outputs": [],
   "source": [
    "print_score(xgb_clf, X_train, y_train, X_test, y_test, train=False)"
   ]
  }
 ],
 "metadata": {
  "colab": {
   "collapsed_sections": [
    "hGanjf72tyqP",
    "M_Op-a4xugcE",
    "p1Fw8soiutFV",
    "3C3YGGOCuxl9",
    "Q8M9AAJUv2FW"
   ],
   "name": "Lab 8-Ensemble Algorithms_Basics.ipynb",
   "provenance": []
  },
  "kernelspec": {
   "display_name": "Python 3",
   "language": "python",
   "name": "python3"
  },
  "language_info": {
   "codemirror_mode": {
    "name": "ipython",
    "version": 3
   },
   "file_extension": ".py",
   "mimetype": "text/x-python",
   "name": "python",
   "nbconvert_exporter": "python",
   "pygments_lexer": "ipython3",
   "version": "3.7.4"
  }
 },
 "nbformat": 4,
 "nbformat_minor": 1
}
